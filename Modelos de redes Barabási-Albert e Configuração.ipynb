{
 "cells": [
  {
   "cell_type": "markdown",
   "id": "ae0a18fe",
   "metadata": {},
   "source": [
    "# Questionario: Modelos de redes: Barabási-Albert e Configuração\n",
    "### Douglas Decicino de Andrade NUSP:10883512"
   ]
  },
  {
   "cell_type": "code",
   "execution_count": 1,
   "id": "7fe9d3ad",
   "metadata": {},
   "outputs": [],
   "source": [
    "import numpy as np\n",
    "import matplotlib.pyplot as plt\n",
    "import networkx as nx\n",
    "import pandas as pd\n",
    "import math\n",
    "import matplotlib.pyplot as plot\n",
    "from networkx.algorithms import community"
   ]
  },
  {
   "cell_type": "markdown",
   "id": "919aee5a",
   "metadata": {},
   "source": [
    "# Média do coeficiente aglomeração e segundo momento do grau para uma rede Barabási-Albert com grau médio igual a 8 e N=1000"
   ]
  },
  {
   "cell_type": "code",
   "execution_count": 2,
   "id": "93965dbe",
   "metadata": {},
   "outputs": [],
   "source": [
    "#Criando a rede\n",
    "N = 1000\n",
    "av_degree = 8\n",
    "m = int(av_degree/2)\n",
    "GBA = nx.barabasi_albert_graph(N, m)"
   ]
  },
  {
   "cell_type": "markdown",
   "id": "461f9db8",
   "metadata": {},
   "source": [
    "#### Abaixo vamos definir uma função que calcula a distribuição de probabilidade do grau"
   ]
  },
  {
   "cell_type": "code",
   "execution_count": 7,
   "id": "644c7750",
   "metadata": {},
   "outputs": [],
   "source": [
    "def distribuicao_grau(G):\n",
    "    vk = dict(G.degree())\n",
    "    vk = list(vk.values())  #Pegamos apenas os valores dos graus.\n",
    "    vk = np.array(vk)\n",
    "    maxk = np.max(vk)\n",
    "    mink = np.min(vk)\n",
    "    kvalues= np.arange(0,maxk+1) #Possíveis valores de k\n",
    "    Pk = np.zeros(maxk+1) # P(k)\n",
    "    for k in vk:\n",
    "        Pk[k] = Pk[k] + 1\n",
    "    Pk = Pk/sum(Pk) #A soma dos elementos de P(k) tem que ser 1\n",
    "    return kvalues,Pk"
   ]
  },
  {
   "cell_type": "markdown",
   "id": "5429567e",
   "metadata": {},
   "source": [
    "#### Agora, vamos plotar a distribuição do grau obtida"
   ]
  },
  {
   "cell_type": "code",
   "execution_count": 4,
   "id": "a45253f0",
   "metadata": {},
   "outputs": [
    {
     "name": "stderr",
     "output_type": "stream",
     "text": [
      "<ipython-input-4-61b31c27c134>:3: MatplotlibDeprecationWarning: The 'basex' parameter of __init__() has been renamed 'base' since Matplotlib 3.3; support for the old name will be dropped two minor releases later.\n",
      "  plt.loglog(ks,Pk,'bo',basex=10,basey=10)\n",
      "<ipython-input-4-61b31c27c134>:3: MatplotlibDeprecationWarning: The 'basey' parameter of __init__() has been renamed 'base' since Matplotlib 3.3; support for the old name will be dropped two minor releases later.\n",
      "  plt.loglog(ks,Pk,'bo',basex=10,basey=10)\n"
     ]
    },
    {
     "data": {
      "image/png": "[encoded data removed]",
      "text/plain": [
       "<Figure size 432x288 with 1 Axes>"
      ]
     },
     "metadata": {
      "needs_background": "light"
     },
     "output_type": "display_data"
    }
   ],
   "source": [
    "ks, Pk = distribuicao_grau(GBA)\n",
    "plt.figure()\n",
    "plt.loglog(ks,Pk,'bo',basex=10,basey=10)\n",
    "plt.xlabel(\"k\", fontsize=20)\n",
    "plt.ylabel(\"P(k)\", fontsize=20)\n",
    "plt.title(\"Degree distribution\", fontsize=20)\n",
    "plt.grid(True)\n",
    "plt.savefig('degree_dist.eps') #save the figure into a file\n",
    "plt.show(True)"
   ]
  },
  {
   "cell_type": "markdown",
   "id": "d3e23267",
   "metadata": {},
   "source": [
    "#### Definição de uma função que calcula o m-ésimo momento da distribuição do grau"
   ]
  },
  {
   "cell_type": "code",
   "execution_count": 5,
   "id": "d1e44be6",
   "metadata": {},
   "outputs": [],
   "source": [
    "def momento_distribuicao_grau(G,m):\n",
    "    k,Pk = distribuicao_grau(G)\n",
    "    M = sum((k**m)*Pk)\n",
    "    return M"
   ]
  },
  {
   "cell_type": "code",
   "execution_count": 6,
   "id": "ab0c0679",
   "metadata": {},
   "outputs": [
    {
     "name": "stdout",
     "output_type": "stream",
     "text": [
      "O segundo momento de P(k) é : 149.89000000000001\n"
     ]
    }
   ],
   "source": [
    "print('O segundo momento de P(k) é :', momento_distribuicao_grau(GBA,2))"
   ]
  },
  {
   "cell_type": "code",
   "execution_count": 7,
   "id": "0f7ee776",
   "metadata": {},
   "outputs": [
    {
     "name": "stdout",
     "output_type": "stream",
     "text": [
      "O coeficiente de aglomeração médio é:  0.03935966633699332\n"
     ]
    }
   ],
   "source": [
    "print(\"O coeficiente de aglomeração médio é: \", nx.average_clustering(GBA) )"
   ]
  },
  {
   "cell_type": "markdown",
   "id": "e85e432e",
   "metadata": {},
   "source": [
    "# Valor da entropia de Shannon da distribuição do grau para as redes de Barabási-Albert e de Erdos-Renyi(aleatória)."
   ]
  },
  {
   "cell_type": "markdown",
   "id": "ffb852b5",
   "metadata": {},
   "source": [
    "Vamos primeiro criar uma rede aleatória."
   ]
  },
  {
   "cell_type": "code",
   "execution_count": 8,
   "id": "84788c7e",
   "metadata": {},
   "outputs": [],
   "source": [
    "N = 1000\n",
    "av_degree = 10\n",
    "p = av_degree/(N-1)\n",
    "m = int(av_degree/2)\n",
    "GER = nx.gnp_random_graph(N, p, seed=None, directed=False)"
   ]
  },
  {
   "cell_type": "markdown",
   "id": "606b4a7f",
   "metadata": {},
   "source": [
    "Agora vamos criar uma rede de Barabási-Albert"
   ]
  },
  {
   "cell_type": "code",
   "execution_count": 9,
   "id": "3a5f6b78",
   "metadata": {},
   "outputs": [],
   "source": [
    "N = 1000\n",
    "av_degree = 10\n",
    "p = av_degree/(N-1)\n",
    "m = int(av_degree/2)\n",
    "GBA = nx.barabasi_albert_graph(N, m)"
   ]
  },
  {
   "cell_type": "markdown",
   "id": "e04ac93e",
   "metadata": {},
   "source": [
    "Vamos definir uma função para calcular a entropia de Shannon."
   ]
  },
  {
   "cell_type": "code",
   "execution_count": 12,
   "id": "5068af31",
   "metadata": {},
   "outputs": [],
   "source": [
    "def entropia_shannon(G):\n",
    "    k,Pk = distribuicao_grau(G)\n",
    "    H = 0\n",
    "    for p in Pk:\n",
    "        if(p > 0):\n",
    "            H = H - p*math.log(p, 2)\n",
    "    return H"
   ]
  },
  {
   "cell_type": "markdown",
   "id": "fad5047c",
   "metadata": {},
   "source": [
    "#### Segue abaixo o calculo da entropia de Shannon para as duas redes."
   ]
  },
  {
   "cell_type": "markdown",
   "id": "f8ce9117",
   "metadata": {},
   "source": [
    "### Grafo aleatório."
   ]
  },
  {
   "cell_type": "code",
   "execution_count": 13,
   "id": "e8534968",
   "metadata": {},
   "outputs": [
    {
     "name": "stdout",
     "output_type": "stream",
     "text": [
      "Entropia de shannon a rede de grafo aleatório é:  3.6653\n"
     ]
    }
   ],
   "source": [
    "H = entropia_shannon(GER)\n",
    "print(\"Entropia de shannon a rede de grafo aleatório é: \", \"%3.4f\"%H)"
   ]
  },
  {
   "cell_type": "markdown",
   "id": "d8b2cb92",
   "metadata": {},
   "source": [
    "### Barabási-Albert"
   ]
  },
  {
   "cell_type": "code",
   "execution_count": 14,
   "id": "78461dfb",
   "metadata": {},
   "outputs": [
    {
     "name": "stdout",
     "output_type": "stream",
     "text": [
      "Entropia de shannon a rede de Barabási-Albert é: 3.6043\n"
     ]
    }
   ],
   "source": [
    "H = entropia_shannon(GBA)\n",
    "print(\"Entropia de shannon a rede de Barabási-Albert é:\", \"%3.4f\"%H)"
   ]
  },
  {
   "cell_type": "markdown",
   "id": "21c31714",
   "metadata": {},
   "source": [
    "# Coeficiente de correlação de Pearson (rho) entre o grau e a medida eigenvector centrality para um modelo Barabási-Albert com N=1000 e grau médio igual a 10."
   ]
  },
  {
   "cell_type": "markdown",
   "id": "ae4b429d",
   "metadata": {},
   "source": [
    "Primeiramente vamos novamente criar o modelo."
   ]
  },
  {
   "cell_type": "code",
   "execution_count": 15,
   "id": "6b3aedc1",
   "metadata": {},
   "outputs": [],
   "source": [
    "#Criando a rede\n",
    "N = 1000\n",
    "av_degree = 10\n",
    "m = int(av_degree/2)\n",
    "GBA = nx.barabasi_albert_graph(N, m)"
   ]
  },
  {
   "cell_type": "markdown",
   "id": "2e97dbe8",
   "metadata": {},
   "source": [
    "Segue abaixo o código para calcular o grau da rede"
   ]
  },
  {
   "cell_type": "code",
   "execution_count": 29,
   "id": "4ea9e93a",
   "metadata": {},
   "outputs": [],
   "source": [
    "d = dict(GBA.degree())\n",
    "d = list(d.values())"
   ]
  },
  {
   "cell_type": "markdown",
   "id": "6adedf17",
   "metadata": {},
   "source": [
    "Segue abaixo o código para calcular a Eigenvector Centrality"
   ]
  },
  {
   "cell_type": "code",
   "execution_count": 30,
   "id": "e0f6c9fd",
   "metadata": {},
   "outputs": [],
   "source": [
    "EC = dict(nx.eigenvector_centrality(GBA, max_iter = 1000))\n",
    "EC = list(EC.values())"
   ]
  },
  {
   "cell_type": "markdown",
   "id": "a64babd4",
   "metadata": {},
   "source": [
    "Segue abaixo o gráfico de dispersão e a medida de correlação entre as medidas pedidas"
   ]
  },
  {
   "cell_type": "code",
   "execution_count": 31,
   "id": "9df76fbb",
   "metadata": {},
   "outputs": [
    {
     "data": {
      "text/html": [
       "<div>\n",
       "<style scoped>\n",
       "    .dataframe tbody tr th:only-of-type {\n",
       "        vertical-align: middle;\n",
       "    }\n",
       "\n",
       "    .dataframe tbody tr th {\n",
       "        vertical-align: top;\n",
       "    }\n",
       "\n",
       "    .dataframe thead th {\n",
       "        text-align: right;\n",
       "    }\n",
       "</style>\n",
       "<table border=\"1\" class=\"dataframe\">\n",
       "  <thead>\n",
       "    <tr style=\"text-align: right;\">\n",
       "      <th></th>\n",
       "      <th>EC</th>\n",
       "      <th>Degree</th>\n",
       "    </tr>\n",
       "  </thead>\n",
       "  <tbody>\n",
       "    <tr>\n",
       "      <th>0</th>\n",
       "      <td>0.118384</td>\n",
       "      <td>60</td>\n",
       "    </tr>\n",
       "    <tr>\n",
       "      <th>1</th>\n",
       "      <td>0.044831</td>\n",
       "      <td>12</td>\n",
       "    </tr>\n",
       "    <tr>\n",
       "      <th>2</th>\n",
       "      <td>0.105617</td>\n",
       "      <td>56</td>\n",
       "    </tr>\n",
       "    <tr>\n",
       "      <th>3</th>\n",
       "      <td>0.146456</td>\n",
       "      <td>47</td>\n",
       "    </tr>\n",
       "    <tr>\n",
       "      <th>4</th>\n",
       "      <td>0.102243</td>\n",
       "      <td>48</td>\n",
       "    </tr>\n",
       "    <tr>\n",
       "      <th>...</th>\n",
       "      <td>...</td>\n",
       "      <td>...</td>\n",
       "    </tr>\n",
       "    <tr>\n",
       "      <th>995</th>\n",
       "      <td>0.004428</td>\n",
       "      <td>5</td>\n",
       "    </tr>\n",
       "    <tr>\n",
       "      <th>996</th>\n",
       "      <td>0.010283</td>\n",
       "      <td>5</td>\n",
       "    </tr>\n",
       "    <tr>\n",
       "      <th>997</th>\n",
       "      <td>0.011384</td>\n",
       "      <td>5</td>\n",
       "    </tr>\n",
       "    <tr>\n",
       "      <th>998</th>\n",
       "      <td>0.022821</td>\n",
       "      <td>5</td>\n",
       "    </tr>\n",
       "    <tr>\n",
       "      <th>999</th>\n",
       "      <td>0.015839</td>\n",
       "      <td>5</td>\n",
       "    </tr>\n",
       "  </tbody>\n",
       "</table>\n",
       "<p>1000 rows × 2 columns</p>\n",
       "</div>"
      ],
      "text/plain": [
       "           EC  Degree\n",
       "0    0.118384      60\n",
       "1    0.044831      12\n",
       "2    0.105617      56\n",
       "3    0.146456      47\n",
       "4    0.102243      48\n",
       "..        ...     ...\n",
       "995  0.004428       5\n",
       "996  0.010283       5\n",
       "997  0.011384       5\n",
       "998  0.022821       5\n",
       "999  0.015839       5\n",
       "\n",
       "[1000 rows x 2 columns]"
      ]
     },
     "execution_count": 31,
     "metadata": {},
     "output_type": "execute_result"
    }
   ],
   "source": [
    "df = pd.DataFrame({'EC':EC,'Degree':d})\n",
    "df"
   ]
  },
  {
   "cell_type": "code",
   "execution_count": 33,
   "id": "1aa058c5",
   "metadata": {},
   "outputs": [
    {
     "data": {
      "image/png": "[encoded data removed]",
      "text/plain": [
       "<Figure size 432x288 with 1 Axes>"
      ]
     },
     "metadata": {
      "needs_background": "light"
     },
     "output_type": "display_data"
    }
   ],
   "source": [
    "df.plot.scatter(x='EC', y='Degree', title= \"Gráfico de dispersão entre Eigenvector Centrality e o Grau\");\n",
    "plot.show(block=True);"
   ]
  },
  {
   "cell_type": "code",
   "execution_count": 47,
   "id": "62a0738e",
   "metadata": {},
   "outputs": [
    {
     "name": "stdout",
     "output_type": "stream",
     "text": [
      "A correlação entre o grau e o coeficiente de aglomeração é:  0.9347156830513881\n"
     ]
    }
   ],
   "source": [
    "print('A correlação entre o grau e o coeficiente de aglomeração é: ',df.corr(method=\"pearson\")['Degree'][0])"
   ]
  },
  {
   "cell_type": "markdown",
   "id": "8145323a",
   "metadata": {},
   "source": [
    "## O que isso indica?"
   ]
  },
  {
   "cell_type": "markdown",
   "id": "4b698fa2",
   "metadata": {},
   "source": [
    "Isso indica que temos uma alta correlação entre o número de graus e a medida de centralidade eigenvector centrality. Como esse modelo é um modelo que cria redes com 'hubs', essa característica é esperada, pois teremos que os vértices com maior conexão serão mais centrais"
   ]
  },
  {
   "cell_type": "markdown",
   "id": "e9fe3fab",
   "metadata": {},
   "source": [
    "# Coeficiente de correlação de Pearson (rho) entre o grau e a medida betweeness centrality para um modelo Barabási-Albert com N=500 e grau médio igual a 10."
   ]
  },
  {
   "cell_type": "markdown",
   "id": "43ff90d4",
   "metadata": {},
   "source": [
    "Primeiramente vamos novamente criar o modelo."
   ]
  },
  {
   "cell_type": "code",
   "execution_count": 48,
   "id": "32e615d7",
   "metadata": {},
   "outputs": [],
   "source": [
    "#Criando a rede\n",
    "N = 500\n",
    "av_degree = 10\n",
    "m = int(av_degree/2)\n",
    "GBA = nx.barabasi_albert_graph(N, m)"
   ]
  },
  {
   "cell_type": "markdown",
   "id": "1bc00051",
   "metadata": {},
   "source": [
    "Segue abaixo o código para calcular o grau da rede"
   ]
  },
  {
   "cell_type": "code",
   "execution_count": 49,
   "id": "51567735",
   "metadata": {},
   "outputs": [],
   "source": [
    "d = dict(GBA.degree())\n",
    "d = list(d.values())"
   ]
  },
  {
   "cell_type": "markdown",
   "id": "f53a49de",
   "metadata": {},
   "source": [
    "Segue abaixo o código para calcular a Betweenness centrality"
   ]
  },
  {
   "cell_type": "code",
   "execution_count": 51,
   "id": "3d6befb8",
   "metadata": {},
   "outputs": [],
   "source": [
    "# Betweenness centrality\n",
    "B = dict(nx.betweenness_centrality(GBA))\n",
    "B = list(B.values())"
   ]
  },
  {
   "cell_type": "markdown",
   "id": "994d69e8",
   "metadata": {},
   "source": [
    "Segue abaixo o gráfico de dispersão e a medida de correlação entre as medidas pedidas"
   ]
  },
  {
   "cell_type": "code",
   "execution_count": 56,
   "id": "77fba404",
   "metadata": {},
   "outputs": [
    {
     "data": {
      "text/html": [
       "<div>\n",
       "<style scoped>\n",
       "    .dataframe tbody tr th:only-of-type {\n",
       "        vertical-align: middle;\n",
       "    }\n",
       "\n",
       "    .dataframe tbody tr th {\n",
       "        vertical-align: top;\n",
       "    }\n",
       "\n",
       "    .dataframe thead th {\n",
       "        text-align: right;\n",
       "    }\n",
       "</style>\n",
       "<table border=\"1\" class=\"dataframe\">\n",
       "  <thead>\n",
       "    <tr style=\"text-align: right;\">\n",
       "      <th></th>\n",
       "      <th>B</th>\n",
       "      <th>Degree</th>\n",
       "    </tr>\n",
       "  </thead>\n",
       "  <tbody>\n",
       "    <tr>\n",
       "      <th>0</th>\n",
       "      <td>0.083794</td>\n",
       "      <td>72</td>\n",
       "    </tr>\n",
       "    <tr>\n",
       "      <th>1</th>\n",
       "      <td>0.000847</td>\n",
       "      <td>6</td>\n",
       "    </tr>\n",
       "    <tr>\n",
       "      <th>2</th>\n",
       "      <td>0.058205</td>\n",
       "      <td>59</td>\n",
       "    </tr>\n",
       "    <tr>\n",
       "      <th>3</th>\n",
       "      <td>0.010968</td>\n",
       "      <td>24</td>\n",
       "    </tr>\n",
       "    <tr>\n",
       "      <th>4</th>\n",
       "      <td>0.031935</td>\n",
       "      <td>42</td>\n",
       "    </tr>\n",
       "    <tr>\n",
       "      <th>...</th>\n",
       "      <td>...</td>\n",
       "      <td>...</td>\n",
       "    </tr>\n",
       "    <tr>\n",
       "      <th>495</th>\n",
       "      <td>0.000327</td>\n",
       "      <td>5</td>\n",
       "    </tr>\n",
       "    <tr>\n",
       "      <th>496</th>\n",
       "      <td>0.000381</td>\n",
       "      <td>5</td>\n",
       "    </tr>\n",
       "    <tr>\n",
       "      <th>497</th>\n",
       "      <td>0.000406</td>\n",
       "      <td>5</td>\n",
       "    </tr>\n",
       "    <tr>\n",
       "      <th>498</th>\n",
       "      <td>0.000213</td>\n",
       "      <td>5</td>\n",
       "    </tr>\n",
       "    <tr>\n",
       "      <th>499</th>\n",
       "      <td>0.000372</td>\n",
       "      <td>5</td>\n",
       "    </tr>\n",
       "  </tbody>\n",
       "</table>\n",
       "<p>500 rows × 2 columns</p>\n",
       "</div>"
      ],
      "text/plain": [
       "            B  Degree\n",
       "0    0.083794      72\n",
       "1    0.000847       6\n",
       "2    0.058205      59\n",
       "3    0.010968      24\n",
       "4    0.031935      42\n",
       "..        ...     ...\n",
       "495  0.000327       5\n",
       "496  0.000381       5\n",
       "497  0.000406       5\n",
       "498  0.000213       5\n",
       "499  0.000372       5\n",
       "\n",
       "[500 rows x 2 columns]"
      ]
     },
     "execution_count": 56,
     "metadata": {},
     "output_type": "execute_result"
    }
   ],
   "source": [
    "df = pd.DataFrame({'B':B,'Degree':d})\n",
    "df"
   ]
  },
  {
   "cell_type": "code",
   "execution_count": 57,
   "id": "198937dd",
   "metadata": {},
   "outputs": [
    {
     "data": {
      "image/png": "[encoded data removed]",
      "text/plain": [
       "<Figure size 432x288 with 1 Axes>"
      ]
     },
     "metadata": {
      "needs_background": "light"
     },
     "output_type": "display_data"
    }
   ],
   "source": [
    "df.plot.scatter(x='B', y='Degree', title= \"Scatter plot between BC and Degree\");\n",
    "plot.show(block=True);"
   ]
  },
  {
   "cell_type": "code",
   "execution_count": 58,
   "id": "e3ef27b8",
   "metadata": {},
   "outputs": [
    {
     "name": "stdout",
     "output_type": "stream",
     "text": [
      "A correlação entre o grau e o Betweenes Centrality é:  0.94720032926887\n"
     ]
    }
   ],
   "source": [
    "print('A correlação entre o grau e o Betweenes Centrality é: ',df.corr(method=\"pearson\")['Degree'][0])"
   ]
  },
  {
   "cell_type": "markdown",
   "id": "408884b5",
   "metadata": {},
   "source": [
    "# Segundo momento do grau para o modelo de configuração com o coeficiente da lei de potência (Zipf) igual a 3."
   ]
  },
  {
   "cell_type": "markdown",
   "id": "41678a51",
   "metadata": {},
   "source": []
  },
  {
   "cell_type": "code",
   "execution_count": 13,
   "id": "90c60ad4",
   "metadata": {},
   "outputs": [
    {
     "name": "stdout",
     "output_type": "stream",
     "text": [
      "[ 1  1  1  1  1  1  2  1  1  1  1  1  1  1  1  1  1  1  1  1  1  1  1  1\n",
      "  1  1  1  1  2  1  1  1  2  1  1  2  1  2  1  1  1  2  1  2  2  1  1  1\n",
      "  1  3  1  1  1  1  2  3  1  1  1  1  1  4  1  1  5  1  1  1  1  3  1  8\n",
      "  1  1  1  1  1  1  1  1  1  1  1  3  1  1  2  1  1  1  1  1  1  1  1  1\n",
      "  1  1  1  1  1  1  1  1  6  2  1  1  1  1  3  1  1  1  2  1  1  1  1  1\n",
      "  1  1  2  1  3  1  1  1  1  1  2  1  2  1  1  1  1  1  2  1  1  1  1  1\n",
      "  1  1  1  1  1  1  1  1  1  1  1  1  1  1  1  1  1  1  4  1  1  1  1  2\n",
      "  2  1  1  1  1 10  1  1  2  1  1  1  1  3  1  1  1  1  1  1  1  1  1  1\n",
      "  1  1  1  1  1  1  2  1  1  1  1  1  1  5  1  1  1  1  1  1  1  1  1  1\n",
      "  1  1  1  1  1  1  1  1  1  1  8  1  2  1  1  2  1  1  1  1  1  1  1  2\n",
      "  1  2  1  1  1  1  3  1  1  1  1  1  1  1  1  1  1  1  3  1  1  1  1  1\n",
      "  1  1  1  1  1  1  1  1  1  1  1  1  1  1  1  1  1  1  1  2  1  1  1  1\n",
      "  1  1  1  1  1  1  1  1  1  1  2  1  3  1  2  1  1  1  1  1  1  1  1  1\n",
      "  1  2  1  1  1  4  1  1  1  1  1  1  1  1  1  1  1  1  1  1  1  1  1  1\n",
      "  1  1  1  1  1  2  1  1  1  1  1  1  1  1  1  1  3  1  1  1  1  1  1  2\n",
      "  1  1  2  1  1  1  1  1  1  1  3  1  1  1  1  1  1  1  1  1  1  1  2  1\n",
      "  1  1  1  1  1  1  1  1  1  2  1  1  1  2  1  1  1  1  1  1  2  1  1  1\n",
      "  1  1  2  2  1  1  1  1  1  1  1  1  1  1  1  2  1  1  1  1  1  1  1  1\n",
      "  1  1  1  1  1  1  1  1  1  1  1  1  1  1  3  4  1  2  1  1  1  4  1  1\n",
      "  3  1  4  1  1  1  1  1  1  1  1  2  1  2  2 22  2  1  2  1  1  1  1  1\n",
      "  9  1  1  2  1  4  1 10  1  1  1  2  1 14  1  1  2  1  1  1]\n"
     ]
    },
    {
     "data": {
      "image/png": "[encoded data removed]",
      "text/plain": [
       "<Figure size 432x288 with 1 Axes>"
      ]
     },
     "metadata": {},
     "output_type": "display_data"
    }
   ],
   "source": [
    "#Criando a rede\n",
    "np.random.seed(42)\n",
    "N = 500\n",
    "a = 3\n",
    "seq = np.random.zipf(a, N) #Zipf distribution\n",
    "print(seq)\n",
    "if(sum(seq)%2 != 0): # the sum of stubs have to be even\n",
    "    pos = np.random.randint(0, len(seq))\n",
    "    seq[pos] = seq[pos]+ 1\n",
    "#print(sum(seq))\n",
    "G=nx.configuration_model(seq)\n",
    "#get the largest component\n",
    "Gcc = sorted(nx.connected_components(G), key=len, reverse=True)\n",
    "G = G.subgraph(Gcc[0])\n",
    "d = dict(G.degree())\n",
    "nx.draw(G, nodelist=d.keys(), node_size=[v * 5 for v in d.values()])\n",
    "plt.show()\n",
    "\n"
   ]
  },
  {
   "cell_type": "code",
   "execution_count": 8,
   "id": "416b8b75",
   "metadata": {},
   "outputs": [
    {
     "name": "stdout",
     "output_type": "stream",
     "text": [
      "Segundo momento da P(k): 3.1324786324786325\n"
     ]
    }
   ],
   "source": [
    "k2 = momento_distribuicao_grau(G,1)\n",
    "print('Segundo momento da P(k):', k2)"
   ]
  }
 ],
 "metadata": {
  "kernelspec": {
   "display_name": "Python 3",
   "language": "python",
   "name": "python3"
  },
  "language_info": {
   "codemirror_mode": {
    "name": "ipython",
    "version": 3
   },
   "file_extension": ".py",
   "mimetype": "text/x-python",
   "name": "python",
   "nbconvert_exporter": "python",
   "pygments_lexer": "ipython3",
   "version": "3.8.8"
  }
 },
 "nbformat": 4,
 "nbformat_minor": 5
}
