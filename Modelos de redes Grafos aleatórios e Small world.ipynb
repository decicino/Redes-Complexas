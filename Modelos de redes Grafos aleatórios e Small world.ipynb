{
 "cells": [
  {
   "cell_type": "markdown",
   "metadata": {},
   "source": [
    "# Questionario: Modelos de redes Grafos aleatórios e Small world\n",
    "### Douglas Decicino de Andrade NUSP:10883512"
   ]
  },
  {
   "cell_type": "code",
   "execution_count": 2,
   "metadata": {},
   "outputs": [],
   "source": [
    "import numpy as np\n",
    "from numpy  import *\n",
    "import networkx as nx\n",
    "import matplotlib.pyplot as plt"
   ]
  },
  {
   "cell_type": "markdown",
   "metadata": {},
   "source": [
    "#### 1 - Gere um grafo aleatório com N=1000 e p = 0.1. Qual o valor do grau médio, segundo momento do grau e coeficiente de aglormeração médio (average clustering coefficient)"
   ]
  },
  {
   "cell_type": "code",
   "execution_count": 6,
   "metadata": {},
   "outputs": [],
   "source": [
    "N = 1000\n",
    "p = 0.1\n",
    "GER = nx.gnp_random_graph(N, p, seed=None, directed=False)"
   ]
  },
  {
   "cell_type": "markdown",
   "metadata": {},
   "source": [
    "Abaixo vamos definir uma função que calcula a distribuição de probabilidade do grau da rede."
   ]
  },
  {
   "cell_type": "code",
   "execution_count": 10,
   "metadata": {},
   "outputs": [],
   "source": [
    "def distribuicao_grau(G):\n",
    "    vk = dict(G.degree())\n",
    "    vk = list(vk.values())  #Pegamos apenas os valores dos graus.\n",
    "    vk = np.array(vk)\n",
    "    maxk = np.max(vk)\n",
    "    mink = np.min(vk)\n",
    "    kvalues= np.arange(0,maxk+1) #Possíveis valores de k\n",
    "    Pk = np.zeros(maxk+1) # P(k)\n",
    "    for k in vk:\n",
    "        Pk[k] = Pk[k] + 1\n",
    "    Pk = Pk/sum(Pk) #A soma dos elementos de P(k) tem que ser 1\n",
    "    return kvalues,Pk"
   ]
  },
  {
   "cell_type": "markdown",
   "metadata": {},
   "source": [
    "Definição de uma função que calcula o m-ésimo momento da distribuição do grau."
   ]
  },
  {
   "cell_type": "code",
   "execution_count": 11,
   "metadata": {},
   "outputs": [],
   "source": [
    "def momento_distribuicao_grau(G,m):\n",
    "    k,Pk = distribuicao_grau(G)\n",
    "    M = sum((k**m)*Pk)\n",
    "    return M"
   ]
  },
  {
   "cell_type": "code",
   "execution_count": 13,
   "metadata": {},
   "outputs": [
    {
     "name": "stdout",
     "output_type": "stream",
     "text": [
      "Grau médio: 99.486\n",
      "Segundo momento da distribuição do grau 9987.212000000001\n",
      "Coeficiente de aglormeração médio: 0.09922647093147248\n"
     ]
    }
   ],
   "source": [
    "M = GER.number_of_edges()\n",
    "print('Grau médio:', 2*M/N)\n",
    "print('Segundo momento da distribuição do grau', momento_distribuicao_grau(GER,2))\n",
    "print(\"Coeficiente de aglormeração médio:\", nx.average_clustering(GER))"
   ]
  },
  {
   "cell_type": "markdown",
   "metadata": {},
   "source": [
    "Podemos ver que o Coeficiente de aglomeração médio é aproximadamente igual a p."
   ]
  },
  {
   "cell_type": "markdown",
   "metadata": {},
   "source": [
    "#### 2 - Gere um small-world com N=1000, grau médio igual 10 e p = 0.1. Qual o valor do segundo momento do grau e coeficiente de aglormeração médio (average clustering coefficient)?\n"
   ]
  },
  {
   "cell_type": "code",
   "execution_count": 122,
   "metadata": {},
   "outputs": [],
   "source": [
    "N = 1000\n",
    "k = 10\n",
    "p = 0.1\n",
    "GWS = nx.watts_strogatz_graph(N, k, p, seed=None)"
   ]
  },
  {
   "cell_type": "code",
   "execution_count": 123,
   "metadata": {},
   "outputs": [
    {
     "name": "stdout",
     "output_type": "stream",
     "text": [
      "Grau médio: 10.0\n",
      "Segundo momento da distribuição do grau 100.89399999999999\n",
      "Coeficiente de aglormeração médio: 0.49575309135309137\n"
     ]
    }
   ],
   "source": [
    "M = GWS.number_of_edges()\n",
    "print('Grau médio:', 2*M/N)\n",
    "print('Segundo momento da distribuição do grau', momento_distribuicao_grau(GWS,2))\n",
    "print(\"Coeficiente de aglormeração médio:\", nx.average_clustering(GWS))"
   ]
  },
  {
   "cell_type": "markdown",
   "metadata": {},
   "source": [
    "#### 3 - Considere uma rede aleatória (Erdos-Renyi) com N=1000 vértices. Qual o valor da entropia de Shannon do grau para 〈 𝑘 〉 = 5, 〈 𝑘 〉 = 10,〈 𝑘 〉 = 50."
   ]
  },
  {
   "cell_type": "markdown",
   "metadata": {},
   "source": [
    "Vamos definir uma função para calcular a entropia de Shannon"
   ]
  },
  {
   "cell_type": "code",
   "execution_count": 70,
   "metadata": {},
   "outputs": [],
   "source": [
    "def entropia_shannon(G):\n",
    "    k,Pk = distribuicao_grau(G)\n",
    "    H = 0\n",
    "    for p in Pk:\n",
    "        if(p > 0):\n",
    "            H = H - p*math.log(p, 2)\n",
    "    return H"
   ]
  },
  {
   "cell_type": "code",
   "execution_count": 71,
   "metadata": {},
   "outputs": [
    {
     "name": "stdout",
     "output_type": "stream",
     "text": [
      "A entropia de Shannon para o grau médio igual à 5 é:  3.1640349459920403\n"
     ]
    }
   ],
   "source": [
    "N = 1000\n",
    "av_degree = 5\n",
    "p = av_degree/(N-1)\n",
    "GER = nx.gnp_random_graph(N, p, seed=None, directed=False)\n",
    "print('A entropia de Shannon para o grau médio igual à 5 é: ',entropia_shannon(GER))"
   ]
  },
  {
   "cell_type": "code",
   "execution_count": 72,
   "metadata": {},
   "outputs": [
    {
     "name": "stdout",
     "output_type": "stream",
     "text": [
      "A entropia de Shannon para o grau médio igual à 10 é:  3.6598757130950452\n"
     ]
    }
   ],
   "source": [
    "N = 1000\n",
    "av_degree = 10\n",
    "p = av_degree/(N-1)\n",
    "GER = nx.gnp_random_graph(N, p, seed=None, directed=False)\n",
    "print('A entropia de Shannon para o grau médio igual à 10 é: ',entropia_shannon(GER))"
   ]
  },
  {
   "cell_type": "code",
   "execution_count": 73,
   "metadata": {},
   "outputs": [
    {
     "name": "stdout",
     "output_type": "stream",
     "text": [
      "A entropia de Shannon para o grau médio igual à 50 é:  4.757109200186309\n"
     ]
    }
   ],
   "source": [
    "N = 1000\n",
    "av_degree = 50\n",
    "p = av_degree/(N-1)\n",
    "GER = nx.gnp_random_graph(N, p, seed=None, directed=False)\n",
    "print('A entropia de Shannon para o grau médio igual à 50 é: ',entropia_shannon(GER))"
   ]
  },
  {
   "cell_type": "markdown",
   "metadata": {},
   "source": [
    "#### 4 - Para o modelo small-world, calcule o valor da menor distância média (average shortest path) para p=0; p=0.01; p=0.05 e p=0.1. Considere grau médio igual a 4 e N=100."
   ]
  },
  {
   "cell_type": "code",
   "execution_count": 144,
   "metadata": {},
   "outputs": [
    {
     "name": "stdout",
     "output_type": "stream",
     "text": [
      "O médio valor da menor distância média para p igual à 0 é:  12.878787878787879\n"
     ]
    }
   ],
   "source": [
    "N = 100\n",
    "k = 4\n",
    "p = 0\n",
    "asplist = []\n",
    "for i in (np.arange(0,30)):\n",
    "    GWS = nx.watts_strogatz_graph(N, k, p, seed=None)\n",
    "    asp = nx.average_shortest_path_length(GWS)\n",
    "    asplist.append(asp)\n",
    "print('O médio valor da menor distância média para p igual à 0 é: ',np.mean(asplist))"
   ]
  },
  {
   "cell_type": "code",
   "execution_count": 145,
   "metadata": {},
   "outputs": [
    {
     "name": "stdout",
     "output_type": "stream",
     "text": [
      "O médio valor da menor distância média para p igual à 0.01 é:  9.979387205387205\n"
     ]
    }
   ],
   "source": [
    "N = 100\n",
    "k = 4\n",
    "p = 0.01\n",
    "asplist = []\n",
    "for i in (np.arange(0,30)):\n",
    "    GWS = nx.watts_strogatz_graph(N, k, p, seed=None)\n",
    "    asp = nx.average_shortest_path_length(GWS)\n",
    "    asplist.append(asp)\n",
    "print('O médio valor da menor distância média para p igual à 0.01 é: ',np.mean(asplist))"
   ]
  },
  {
   "cell_type": "code",
   "execution_count": 146,
   "metadata": {},
   "outputs": [
    {
     "name": "stdout",
     "output_type": "stream",
     "text": [
      "O médio valor da menor distância média para p igual à 0.05 é:  6.230255892255892\n"
     ]
    }
   ],
   "source": [
    "N = 100\n",
    "k = 4\n",
    "p = 0.05\n",
    "asplist = []\n",
    "for i in (np.arange(0,30)):\n",
    "    GWS = nx.watts_strogatz_graph(N, k, p, seed=None)\n",
    "    asp = nx.average_shortest_path_length(GWS)\n",
    "    asplist.append(asp)\n",
    "print('O médio valor da menor distância média para p igual à 0.05 é: ',np.mean(asplist))"
   ]
  },
  {
   "cell_type": "code",
   "execution_count": 147,
   "metadata": {},
   "outputs": [
    {
     "name": "stdout",
     "output_type": "stream",
     "text": [
      "O médio valor da menor distância média para p igual à 0.1 é:  5.093872053872053\n"
     ]
    }
   ],
   "source": [
    "N = 100\n",
    "k = 4\n",
    "p = 0.1\n",
    "asplist = []\n",
    "for i in (np.arange(0,30)):\n",
    "    GWS = nx.watts_strogatz_graph(N, k, p, seed=None)\n",
    "    asp = nx.average_shortest_path_length(GWS)\n",
    "    asplist.append(asp)\n",
    "print('O médio valor da menor distância média para p igual à 0.1 é: ',np.mean(asplist))"
   ]
  },
  {
   "cell_type": "markdown",
   "metadata": {},
   "source": [
    "#### 5 - Considere o modelo de Erdos-Renyi. Gere redes com grau médio igual a 5, 10 e 50 e N=1000. Qual o valor da assortatividade?"
   ]
  },
  {
   "cell_type": "code",
   "execution_count": 93,
   "metadata": {},
   "outputs": [
    {
     "name": "stdout",
     "output_type": "stream",
     "text": [
      "O valor da assortatividade para o grau médio igual à 5 é:  0.0048509370384915715\n"
     ]
    }
   ],
   "source": [
    "N = 1000\n",
    "av_degree = 5\n",
    "p = av_degree/(N-1)\n",
    "GER = nx.gnp_random_graph(N, p, seed=None, directed=False)\n",
    "print('O valor da assortatividade para o grau médio igual à 5 é: ',nx.degree_assortativity_coefficient(GER))"
   ]
  },
  {
   "cell_type": "code",
   "execution_count": 94,
   "metadata": {},
   "outputs": [
    {
     "name": "stdout",
     "output_type": "stream",
     "text": [
      "O valor da assortatividade para o grau médio igual à 10 é:  0.00815949432451937\n"
     ]
    }
   ],
   "source": [
    "N = 1000\n",
    "av_degree = 10\n",
    "p = av_degree/(N-1)\n",
    "GER = nx.gnp_random_graph(N, p, seed=None, directed=False)\n",
    "print('O valor da assortatividade para o grau médio igual à 10 é: ',nx.degree_assortativity_coefficient(GER))"
   ]
  },
  {
   "cell_type": "code",
   "execution_count": 98,
   "metadata": {},
   "outputs": [
    {
     "name": "stdout",
     "output_type": "stream",
     "text": [
      "O valor da assortatividade para o grau médio igual à 50 é:  -0.0013491856030388054\n"
     ]
    }
   ],
   "source": [
    "N = 1000\n",
    "av_degree = 50\n",
    "p = av_degree/(N-1)\n",
    "GER = nx.gnp_random_graph(N, p, seed=None, directed=False)\n",
    "print('O valor da assortatividade para o grau médio igual à 50 é: ',nx.degree_assortativity_coefficient(GER))"
   ]
  },
  {
   "cell_type": "markdown",
   "metadata": {},
   "source": [
    "#### 6 - Considere o modelo small-world. Gere redes com grau médio 10 e N=1000. Qual o valor da assortatividade para p=0.01; 0.05 e 0.2?"
   ]
  },
  {
   "cell_type": "code",
   "execution_count": 148,
   "metadata": {},
   "outputs": [
    {
     "name": "stdout",
     "output_type": "stream",
     "text": [
      "O valor da assortatividade para p igual à 0.01 é:  -0.028414884445447375\n"
     ]
    }
   ],
   "source": [
    "N = 1000\n",
    "k =  10\n",
    "p = 0.01\n",
    "GWS = nx.watts_strogatz_graph(N, k, p, seed=None)\n",
    "print('O valor da assortatividade para p igual à 0.01 é: ',nx.degree_assortativity_coefficient(GWS))"
   ]
  },
  {
   "cell_type": "code",
   "execution_count": 157,
   "metadata": {},
   "outputs": [
    {
     "name": "stdout",
     "output_type": "stream",
     "text": [
      "O valor da assortatividade para p igual à 0.05 é:  0.030325005940277063\n"
     ]
    }
   ],
   "source": [
    "N = 1000\n",
    "av_degree = 10\n",
    "k = int(av_degree/2)\n",
    "p = 0.05\n",
    "GWS = nx.watts_strogatz_graph(N, k, p, seed=None)\n",
    "print('O valor da assortatividade para p igual à 0.05 é: ',nx.degree_assortativity_coefficient(GWS))"
   ]
  },
  {
   "cell_type": "code",
   "execution_count": 154,
   "metadata": {},
   "outputs": [
    {
     "name": "stdout",
     "output_type": "stream",
     "text": [
      "O valor da assortatividade para p igual à 0.2 é:  -0.044570697382535295\n"
     ]
    }
   ],
   "source": [
    "N = 1000\n",
    "av_degree = 10\n",
    "k = int(av_degree/2)\n",
    "p = 0.2\n",
    "GWS = nx.watts_strogatz_graph(N, k, p, seed=None)\n",
    "print('O valor da assortatividade para p igual à 0.2 é: ',nx.degree_assortativity_coefficient(GWS))"
   ]
  }
 ],
 "metadata": {
  "kernelspec": {
   "display_name": "Python 3",
   "language": "python",
   "name": "python3"
  },
  "language_info": {
   "codemirror_mode": {
    "name": "ipython",
    "version": 3
   },
   "file_extension": ".py",
   "mimetype": "text/x-python",
   "name": "python",
   "nbconvert_exporter": "python",
   "pygments_lexer": "ipython3",
   "version": "3.8.8"
  }
 },
 "nbformat": 4,
 "nbformat_minor": 2
}
